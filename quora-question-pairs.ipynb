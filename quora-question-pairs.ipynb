{
 "cells": [
  {
   "cell_type": "markdown",
   "metadata": {},
   "source": [
    "**Import the necessary libraries**"
   ]
  },
  {
   "cell_type": "code",
   "execution_count": 1,
   "metadata": {
    "_cell_guid": "b1076dfc-b9ad-4769-8c92-a6c4dae69d19",
    "_uuid": "8f2839f25d086af736a60e9eeb907d3b93b6e0e5"
   },
   "outputs": [
    {
     "name": "stderr",
     "output_type": "stream",
     "text": [
      "Using TensorFlow backend.\n"
     ]
    },
    {
     "name": "stdout",
     "output_type": "stream",
     "text": [
      "Collecting num2words\r\n",
      "\u001b[?25l  Downloading https://files.pythonhosted.org/packages/eb/a2/ea800689730732e27711c41beed4b2a129b34974435bdc450377ec407738/num2words-0.5.10-py3-none-any.whl (101kB)\r\n",
      "\u001b[K     |████████████████████████████████| 102kB 1.3MB/s \r\n",
      "\u001b[?25hRequirement already satisfied: docopt>=0.6.2 in /opt/conda/lib/python3.6/site-packages (from num2words) (0.6.2)\r\n",
      "Installing collected packages: num2words\r\n",
      "Successfully installed num2words-0.5.10\r\n"
     ]
    }
   ],
   "source": [
    "import os\n",
    "import numpy as np \n",
    "import pandas as pd\n",
    "import string\n",
    "from collections import Counter\n",
    "import seaborn as sns\n",
    "sns.set(rc={'figure.figsize':(12,9)})\n",
    "import matplotlib.pyplot as plt\n",
    "\n",
    "from tensorflow.keras.preprocessing.text import Tokenizer\n",
    "from tensorflow.keras.preprocessing.sequence import pad_sequences\n",
    "from tensorflow.keras.layers import Dense, Input, Embedding, Dropout, Activation, BatchNormalization, CuDNNLSTM, concatenate, Bidirectional\n",
    "from tensorflow.keras.models import Model\n",
    "from tensorflow.keras import optimizers\n",
    "from tensorflow.keras.callbacks import ModelCheckpoint\n",
    "from keras.utils import np_utils\n",
    "from sklearn.model_selection import train_test_split\n",
    "from sklearn import metrics\n",
    "import re\n",
    "\n",
    "!pip install num2words\n",
    "from num2words import num2words\n",
    "\n",
    "SEQUENCE_LENGTH = 35\n",
    "EMBEDDING_DIM = 200"
   ]
  },
  {
   "cell_type": "markdown",
   "metadata": {},
   "source": [
    "**Loading the training data**"
   ]
  },
  {
   "cell_type": "code",
   "execution_count": 2,
   "metadata": {
    "_cell_guid": "79c7e3d0-c299-4dcb-8224-4455121ee9b0",
    "_uuid": "d629ff2d2480ee46fbb7e2d37f6b5fab8052498a"
   },
   "outputs": [],
   "source": [
    "train = pd.read_csv('../input/train.csv')\n",
    "#Removing the rows that have null values\n",
    "train = train.dropna(how='any',axis=0) "
   ]
  },
  {
   "cell_type": "markdown",
   "metadata": {},
   "source": [
    "**Below is the data pre-processing. The following pre-processing like deciding own stop words, punctuation, correcting misspelled words, replacing contractions, replacing numbers have been identified after exploring the dataset. The Exploration techniques are there in the below cells.**"
   ]
  },
  {
   "cell_type": "code",
   "execution_count": 3,
   "metadata": {},
   "outputs": [],
   "source": [
    "misspelled_words = {\"automattic\": \"automatic\", \"sweetpotato\": \"sweet potato\", \"statuscode\": \"status code\", \"applylayer\": \"apply layer\", \"aligator\": \"alligator\", \"downloands\": \"download\", \"dowloand\": \"download\", \"thougths\": \"thoughts\", \"helecopter\": \"helicopter\", \"telugul\": \"telugu\", \"unconditionaly\": \"unconditionally\", \"coompanies\": \"companies\", \"lndigenous\": \"indigenous\", \"evluate\": \"evaluate\", \"suggstion\": \"suggestion\", \"thinkning\": \"thinking\", \"concatinate\": \"concatenate\", \"constitutionals\": \"constitutional\", \"moneyback\": \"money back\", \"civilazation\": \"civilization\", \"paranoria\": \"paranoia\", \"rightside\": \"right side\", \"methamatics\": \"mathematics\", \"natual\": \"natural\", \"brodcast\": \"broadcast\", \"pleasesuggest\": \"please suggest\", \"intitution\": \"institution\", \"experinces\": \"experiences\", \"reallyreally\": \"really\", \"testostreone\": \"testosterone\", \"musceles\": \"muscle\", \"bacause\": \"because\", \"peradox\": \"paradox\", \"probabity\": \"probability\", \"collges\": \"college\", \"diciplined\": \"disciplined\", \"completeted\": \"completed\", \"lunchshould\": \"lunch should\", \"battlenet\": \"battle net\", \"dissapoint\": \"disappoint\", \"resultsnew\": \"results new\", \"indcidents\": \"incidents\", \"figuire\": \"figure\", \"protonneutron\": \"proton neutron\", \"tecnical\": \"technical\", \"patern\": \"pattern\", \"unenroll\": \"un enroll\", \"proceedures\": \"procedures\", \"srategy\": \"strategy\", \"mordern\": \"modern\", \"prepartion\": \"preparation\", \"throuhout\": \"throught\", \"academey\": \"academic\", \"instituitions\": \"institutions\", \"abadon\": \"abandon\",\"compitetive\": \"competitive\", \"hypercondriac\": \"hypochondriac\", \"spiliting\": \"splitting\", \"physchic\": \"psychic\", \"flippingly\": \"flipping\", \"likelyhood\": \"likelihood\", \"armsindustry\": \"arms industry\", \" turorials\": \"tutorials\", \"photostats\": \"photostat\", \"sunconcious\": \"subconscious\", \"chemistryphysics\": \"chemistry physics\", \"secondlife\": \"second life\", \"histrorical\": \"historical\", \"disordes\": \"disorders\", \"differenturl\": \"differential\", \"councilling\": \" counselling\", \"sugarmill\": \"sugar mill\", \"relatiosnhip\": \"relationship\", \"fanpages\": \"fan pages\", \"agregator\": \"aggregator\", \"switc\": \"switch\", \"smatphones\": \"smartphones\", \"headsize\": \"head size\", \"pendrives\": \"pen drives\", \"biotecnology\": \"biotechnology\", \"borderlink\": \"border link\", \"furnance\": \"furnace\", \"competetion\": \"competition\", \"distibution\": \"distribution\", \"ananlysis\": \" analysis\", \"textile？\": \"textile\", \"howww\": \"how\", \"strategybusiness\": \"strategy business\", \"spectrun\": \"spectrum\", \"propasal\": \"proposal\", \"appilcable\": \"applicable\", \"accountwhat\": \" account what\", \"algorithems\": \" algorithms\", \"protuguese\": \" Portuguese\", \"exatly\": \"exactly\", \"disturbence\": \"disturbance\", \"govrnment\": \"government\", \"requiremnt\": \"requirement\", \"vargin\": \"virgin\", \"lonleley\": \"lonely\", \"unmateralistic\": \"materialistic\", \"dveloper\": \"developer\", \"dcuments\": \"documents\", \"techonologies\": \"technologies\", \"morining\": \"morning\", \"samsing\": \"Samsung\", \"engeeniring\": \"engineering\", \"racetrac\": \"racetrack\", \"physian\": \"physician\", \"theretell\": \"there tell\", \"tryto\": \"try to\", \"teamfight\": \"team fight\", \"recomend\": \"recommend\", \"spectables\": \"spectacles\", \"emtional\": \"emotional\", \"engeenerring\": \"engineering\", \"optionsgood\": \"options good\", \"primarykey\": \"primary key\", \"foreignkey\": \"foreign key\", \"concieved\": \"conceived\", \"leastexpensive\": \"least expensive\", \"foodtech\": \"food tech\", \"electronegetivity\": \"electronegativity\", \"polticians\": \"politicians\", \"distruptive\": \"disruptive\", \"currrent\": \"current\", \"hidraulogy\": \"hydrology\", \"californa\": \"California\", \"electrrical\": \"electrical\", \"navigationally\": \"navigation\", \"whwhat\": \"what\", \"bcos\": \"because\", \"vaccancies\": \"vacancies\", \"articels\": \"articles\", \"boilng\": \"boiling\", \"hyperintensity\": \"hyper intensity\", \"rascism\": \"racism\", \"messenging\": \"messaging\", \"cleaniness\": \"cleanliness\", \"vetenary\": \"veterinary\", \"investorswhat\": \"investors what\", \"chrestianity\": \"Christianity\", \"apporval\": \"approval\", \"repaire\": \"repair\", \"biggerchance\": \"bigger chance\", \"manufacturering\": \"manufacturing\", \"buildertrend\": \"builder trend\", \"allocatively\": \"allocative\", \"subliminals\": \"subliminal\", \"mechnically\": \"mechanically\", \"binaurial\": \"binaural\", \"naaked\": \"naked\", \"aantidepressant\": \"antidepressant\", \"geunine\": \"genuine\", \"quantitaive\": \"quantitative\", \"paticipated\": \"participated\", \"repliedjesus\": \"replied Jesus\", \"baised\": \"biased\",\"worldreport\": \"world report\", \"eecutives\": \"executives\", \"paitents\": \"patients\", \"telgu\": \"Telugu\", \"nomeniculature\": \"nomenclature\", \"crimimaly\": \"criminally\", \"resourse\": \"resource\", \"procurenent\": \"procurement\", \"improvemet\": \"improvement\", \"metamers\": \"metamer\", \"tautomers\": \"tautomer\", \"knowwhen\": \"know when\",\"whatdoes\": \"what does\", \"pletelets\": \"platelets\", \"pssesive\": \"possessive\", \"oxigen\": \"oxygen\", \"ethniticy\": \"ethnicity\", \"situatiation\": \"situation\", \"ecoplanet\": \"eco planet\", \"situatio\": \"situation\", \"dateing\": \"dating\", \"hostress\": \"hostess\", \"initialisation\": \"initialization\", \"hydrabd\": \"Hyderabad\", \"deppresed\": \"depressed\", \"dwnloadng\": \"downloading\", \"expirey\": \"expiry\", \"engeenering\": \"engineering\", \"hyderebad\": \"Hyderabad\", \"automatabl\": \"automatable\", \"architetureocasions\": \"architectureoccasions\", \"restaraunts\": \"restaurants\", \"recommedations\": \"recommendations\", \"intergrity\": \"integrity\", \"reletively\": \"relatively\", \"priceworthy\": \"price worthy\", \"princples\": \"principles\", \"reconigze\": \"recognize\", \"paticular\": \"particular\", \"musictheory\": \"music theory\", \"requied\": \"required\", \"netural\": \"natural\", \"fluoresent\": \"fluorescent\", \"girlfiend\": \"girlfriend\", \"develpment\": \"development\", \"eridicate\": \"eradicate\", \"techologys\": \"technologies\", \"hybridyzation\": \"hybridization\", \"ideaa\": \"ideas\", \"tchnology\": \"technology\", \"appropiate\": \"appropriate\", \"respone\": \"response\", \"celebreties\": \"celebrities\", \"exterion\": \"exterior\", \"uservoice\": \"user voice\", \"effeciently\": \"efficiently\", \"torquise\": \"turquoise \", \"governmentand\": \"government and\", \"eletricity\": \"electricity\", \"coulums\": \"columns\", \"nolonger\": \"no longer\", \"wheras\": \"whereas\", \"infnite\": \"infinite\", \"decolourised\": \"no color\", \"onepiece\": \"one piece\", \"assignements\": \"assignments\", \"celebarted\": \"celebrated\", \"pharmacistical\": \"pharmaceutical\", \"jainsingle\": \"Jain single\", \"asssistance\": \"assistance\", \"glases\": \"glasses\", \"polymorpism\": \"polymorphism\", \"amerians\": \"Americans\", \"masquitos\": \"mosquitoes\", \"interseted\": \"interested\", \"thehighest\": \"the highest\", \"etnicity\": \"ethnicity\", \"anopportunity\": \"anopportunity\", \"multidiscipline\": \"multi discipline\", \"smartchange\": \"smart change\", \"collegefest\": \"college fest\", \"disdvantages\": \"disadvantages\", \"successfcators\": \"success factors\", \"sustitute\": \"substitute\",\"caoching\": \"coaching\", \"bullyed\": \"bullied\", \"comunicate\": \"communicate\", \"prisioner\": \"prisoner\", \"tamilnaadu\": \"Tamil Nadu\", \"methodologyies\": \"methodologies\", \"tranfers\": \"transfers\", \"truenorth\": \"true north\", \"backdonation\": \"back donation\", \"oreals\": \"ordeals\", \"browsec\": \"browser\", \"solarwinds\": \"solar winds\", \"susten\": \"sustain\", \"carnegi\": \"Carnegie\", \"doesent\": \"doesn't\", \"automtotive\": \"automotive\", \"nimuselide\": \"nimesulide\", \"subsciption\": \"subscription\", \"quatrone\": \"Quattrone\", \"qatalyst\": \"catalyst\", \"vardamana\": \"Vardaman\", \"suplements\": \"supplements\", \"repore\": \"report\", \"pikettys\": \"Piketty\", \"paramilltary\":\"paramilitary\", \"aboutlastnight\": \"about last night\", \"vidyapeth\": \"Vidyapeeth\", \"extraterrestial\": \"extraterrestrial\", \"powerloom\": \"power loom\", \"zonbie\": \"zombie\", \"cococola\": \"Coca Cola\", \"hameorrhage\": \"hemorrhage\", \"abhayanand\": \"Abhay Anand\", \"romedynow\": \"remedy now\", \"couster\": \"counter\", \"encouaged\": \"encouraged\", \"toprepare\": \"to prepare\", \"eveteasing\": \"eve teasing\", \"roulete\": \"roulette\", \"sorkar\": \"Sarkar\", \"waveboard\": \"wave board\", \"acclerate\": \"accelerate\", \"togrow\": \"to grow\", \"felatio\": \"fellatio\", \"baherain\": \"Bahrain\", \"teatment\": \"treatment\", \"iwitness\": \"eye witness\", \"autoplaying\": \"autoplay\", \"twise\": \"twice\", \"timeskip\": \"time skip\", \"disphosphorus\": \"diphosphorus\", \"implemnt\": \"implement\", \"proview\": \"preview\", \"pinshoppr\": \"pin shoppe\", \"protestng\": \"protesting\", \"chromatographymass\": \"chromatography mass\", \"ncache\": \"cache\", \"dowloands\": \"downloads\", \"biospecifics\": \"bio specifics\", \"conforim\": \"conform\", \"dreft\": \"draft\", \"sinhaleseand\": \"Sinhalese\", \"swivl\": \"swivel\", \"officerjms\": \"officers\", \"refrigrant\": \"refrigerant\", \"kendras\": \"Kendra\", \"alchoholism\": \"alcoholism\", \"dollor\": \"dollar\", \"jeyalalitha\": \"Jayalalitha\", \"bettner\": \"better\", \"itemstream\": \"timestream\", \"notetaking\": \"note taking\", \"cringworthy\": \"cringeworthy\", \"easyday\": \"easy day\", \"scenessex\": \"scenes sex\", \"vivavideo\": \"via video\", \"washboth\": \"wash both\", \"textout\": \"text out\", \"createwindow\": \"create window\", \"calsium\": \"calcium\", \"biofibre\": \"bio fibre\", \"emailbesides\": \"email besides\", \"kathhi\": \"Kathi\", \"cenre\": \"center\", \"polyarmory\": \"polyamory\", \"superforecasters\": \"super forecasters\", \"blogers\": \"bloggers\", \"medicalwhich\": \"medical which\", \"iiving\": \"living\", \"pronouciation\": \"pronunciation\", \"youor\": \"you or\", \"thuderbird\": \"Thunderbird\", \"oneside\": \"one side\",\"spearow\": \"Spearow\", \"aanythign\": \"anything\", \"inmaking\": \"in making\", \"datamining\": \"data mining\", \"greybus\": \"grey bus\", \"onmeter\": \"on meter\", \"biling\": \"billing\", \"fidlago\": \"Fidalgo\", \"edfice\": \"edifice\", \"microsolutions\": \"micro solutions\", \"easly\": \"easily\", \"eukarotic\": \"eukaryotic\", \"accedental\": \"accidental\", \"intercasts\": \"interests\", \"oppresive\": \"oppressive\", \"generalizably\": \"generalizable\", \"tacometer\": \"tachometer\", \"loking\": \"looking\", \"scrypt\": \"script\", \"usafter\": \"us after\", \"everyweek\": \"every week\", \"hopesthe\": \"hopes the\", \"openflow\": \"OpenFlow\", \"checkride\": \"check ride\", \"springdrive\": \"spring drive\", \"emobile\": \"mobile\", \"dermotology\": \"dermatology\", \"somatrophin\": \"somatropin\", \"saywe\": \"say we\", \"multistores\": \"multistory\", \"bolognaise\": \"Bolognese\", \"hardisk\": \"harddisk\", \"penisula\": \"peninsula\", \"refferring\": \"referring\", \"freshere\": \"fresher\", \"pokemkon\": \"Pokemon\", \"nuero\": \"neuro\", \"whosampled\": \"who sampled\", \"researchkit\": \"research kit\", \"speach\": \"speech\", \"acept\": \"accept\", \"indiashoppe\": \"Indian shoppe\",\"todescribe\": \"to describe\", \"hollywod\": \"Hollywood\", \"whastup\": \"whassup\", \"kjedahls\": \"Kjeldahl\", \"lancher\": \"launcher\", \"stalkees\": \"stalkers\", \"baclinks\": \"backlinks\", \"instutional\": \"institutional\", \"wassap\": \"Wassup\", \"methylethyl\": \"methyl ethyl\", \"fundbox\": \"fund box\", \"keypoints\": \"key points\", \"particually\": \"particularly\", \"loseit\": \"lose it\", \"gowipe\": \"go wipe\", \"autority\": \"authority\", \"prinicple\": \"principle\", \"complaince\": \"compliance\", \"itnormal\": \"it normal\", \"forpeople\": \"for people\", \"chaces\": \"chances\",\"yearhow\": \"year how\", \"fastcomet\": \"fast comet\", \"withadd\": \"with add\", \"omnicient\": \"omniscient\", \"tofeel\": \"to feel\", \"becauseof\": \"because of\", \"laungauage\": \"language\", \"combodia\": \"Cambodia\", \"bhuvneshwer\": \"Bhubaneshwar\", \"cognito\": \"Cognito\", \"thaelsemia\": \"thalassemia\", \"meritstore\": \"merit store\", \"masterbuate\": \"masturbate\", \"planethere\": \"planet here\", \"mostof\": \"most of\", \"shallowin\": \"shallow in\", \"wordwhen\": \"word when\", \"biodesalination\": \"desalination\", \"tendulkars\": \"Tendulkar\", \"kerja\": \"Kerja\", \"sertifikat\": \"certificate\", \"indegenous\": \"indigenous\", \"lowpage\": \"low page\", \"asend\": \"ascend\", \"leadreship\": \"leadership\", \"openlab\": \"open lab\", \"foldinghome\": \"folding home\", \"sachins\": \"Sachin\", \"pleatue\": \"plateau\", \"passwor\": \"password\", \"manisfestation\": \"manifestation\", \"valryian\": \"valerian\", \"chemotaxic\": \"chemotaxis\", \"condesending\": \"condescending\", \"spiltzvilla\": \"splitsville\", \"mammaliaforme\": \"mammaliaform\", \"instituteagra\": \"institute agra\", \"learningand\": \"learning and\", \"ramamurthynagar\": \"Ramamurthy Nagar\", \"glucoses\": \"glucose\", \"imitaion\": \"imitation\", \"awited\": \"awaited\", \"realvision\": \"real vision\", \"simslot\": \"sim slot\", \"yourr\": \"your\", \"pacjage\": \"package\", \"branchth\": \"branch\", \"magzin\": \"magazine\", \"frozon\": \"frozen\", \"codescomputational\": \"code computational\", \"tempratures\": \"temperatures\", \"neurophaphy\": \"neuropathy\", \"freezone\": \"free zone\", \"speices\": \"species\", \"compaitable\": \"compatible\", \"sensilization\": \"sensitization\", \"tuboscope\": \"tube scope\", \"gamechangers\": \"game changer\", \"windsheild\": \"windshield\", \"explorerie\": \"explorer\", \"cuccina\": \"Cucina\", \"earthstone\": \"hearthstone\", \"vocabs\": \"vocab\", \"previouse\": \"previous\", \"oneview\": \"one view\", \"relance\": \"reliance\", \"waterstop\": \"water stop\", \"imput\": \"input\", \"survivers\": \"survivors\", \"benedryl\": \"Benadryl\", \"requestparam\": \"request param\", \"typeadd\": \"type add\", \"autists\":\"artists\", \"forany\": \"for any\", \"inteview\": \"interview\", \"aphantasia\": \"Phantasia\", \"lisanna\": \"Lisanne\",\"civilengineering\": \"civil engineering\", \"austrailia\": \"Australia\", \"alchoholic\": \"alcoholic\", \"adaptersuch\": \"adapter such\", \"sphilosopher\": \"philosopher\", \"calenderisation\": \"calendarization\", \"smooking\": \"smoking\", \"pemdulum\": \"pendulum\", \"analsyis\": \"analysis\", \"psycholology\": \"psychology\", \"ubantu\": \"ubuntu\", \"emals\": \"emails\", \"questionth\": \"questions\", \"jawarlal\": \"Jawaharlal\", \"svaldbard\": \"Svalbard\", \"prabhudeva\": \"Prabhudeva\", \"robtics\": \"robotics\", \"umblock\": \"unblock\", \"professionaly\": \"professionally\", \"biovault\": \"bio vault\", \"bibal\": \"bible\", \"higherstudies\": \"higher studies\", \"lestoil\": \"less oil\", \"biteshow\": \"bike show\", \"humanslike\": \"humans like\", \"purpse\": \"purpose\", \"barazilian\": \"Brazilian\", \"gravitional\": \"gravitational\", \"cylinderical\": \"cylindrical\", \"peparing\": \"preparing\", \"healthequity\": \"health equity\", \"appcleaner\": \"app cleaner\", \"instantq\": \"instant\", \"abolisihed\": \"abolished\", \"kwench\": \"quench\", \"prisamatic\": \"prismatic\", \"bhubneshwar\": \"Bhubaneshwar\", \"liscense\": \"license\", \"cyberbase\": \"cyber base\", \"safezone\": \"safe zone\", \"deactivat\": \"deactivate\", \"salicyclic\": \"salicylic\", \"cocacola\": \"coca cola\", \"noice\": \"noise\", \"examinaton\": \"examination\", \"pharmavigilance\": \"pharmacovigilance\", \"sixthsense\": \"sixth sense\",\"musiclly\": \"musically\", \"khardushan\": \"Kardashian\", \"chandragupt\": \"Chandragupta\", \"bayesians\": \"bayesian\", \"engineeringbut\": \"engineering but\", \"caretrust\": \"care trust\", \"girlbut\": \"girl but\", \"aviations\": \"aviation\", \"joinee\": \"joiner\", \"tutior\": \"tutor\", \"tylenal\": \"Tylenol\", \"neccesity\": \"necessity\", \"kapsule\": \"capsule\", \"prayes\": \"prayers\", \"depositmobile\": \"deposit mobile\", \"settopbox\": \"set top box\", \"meotic\":\"meiotic\", \"accidentially\": \"accidentally\", \"offcloud\": \"off cloud\", \"keshavam\": \"Keshava\", \"domaincentral\": \"domain central\", \"onetaste\": \"one taste\", \"lumpsum\": \"lump sum\", \"medschool\": \"med school\", \"digicard\": \"Digi card\", \"abroadus\": \"abroad\", \"campusexcept\": \"campus except\", \"aptittude\": \"aptitude\", \"neutrions\": \"neutrinos\", \"onepaper\": \"one paper\", \"remidies\": \"remedies\", \"convinient\": \"convenient\", \"financaily\":\"financially\", \"postives\": \"positives\", \"nikefuel\": \"Nike fuel\", \"ingrediants\": \"ingredients\", \"aspireat\": \"aspirate\", \"firstand\": \"first\", \"mohammmad\": \"Mohammad\", \"mutliple\": \"multiple\", \"dimonatization\": \"demonization\", \"cente\": \"center\", \"marshmellow\": \"marshmallow\", \"citreon\": \"Citroen\", \"theirony\": \"the irony\", \"slienced\": \"silenced\", \"identifiy\": \"identify\", \"energ\": \"energy\", \"distribuiton\": \"distribution\", \"devoloping\": \"developing\", \"maharstra\": \"Maharastra\", \"siesmologist\": \"seismologist\", \"geckoos\": \"geckos\", \"placememnt\": \"placement\", \"introvercy\": \"introvert\", \"nuerosurgeon\": \"neurosurgeon\", \"realsense\": \"real sense\", \"congac\": \"cognac\", \"plaese\": \"please\", \"addicition\": \"addiction\", \"othet\": \"other\", \"howwill\": \"how will\", \"betablockers\": \"beta blockers\", \"phython\": \"Python\", \"concelling\": \"counseling\", \"einstine\": \"Einstein\", \"takinng\": \"taking\", \"birtday\": \"birthday\", \"prefessor\": \"professor\", \"dreamscreen\": \"dream screen\", \"satyabama\": \"Satyabhama\", \"faminism\": \"feminism\", \"noooooooooo\": \"no\", \"certifaction\": \"certification\",\"smalll\": \"small\", \"sterlization\": \"sterilization\", \"athelete\": \"athlete\", \"comppany\": \"company\", \"handlebreakup\": \"handle a breakup\", \"wellrounded\": \"well rounded\", \"breif\": \"brief\", \"engginering\": \"engineering\", \"genrally\": \"generally\", \"forgote\": \"forgot\", \"compuny\": \"the company\", \"wholeseller\": \"wholesaler\", \"conventioal\": \"conventional\", \"healther\": \"healthier\", \"realitic\": \"realistic\", \"israil\": \"Israel\", \"morghulis\": \"Margulis\", \"begineer\": \"beginner\", \"unwaiveringly\": \"unwavering\", \"writen\": \"written\", \"gastly\": \"ghastly\", \"obscurial\": \"obscure\", \"permanetly\": \"permanently\", \"bday\": \"birthday\", \"studing\": \"studying\", \"blackcore\": \"black core\", \"macbok\": \"MacBook\", \"realted\": \"related\", \"resoning\": \"reasoning\", \"servicenow\": \"service now\", \"medels\": \"medals\", \"hairloss\": \"hair loss\", \"messanger\": \"messenger\", \"masterbate\": \"masturbate\", \"oppurtunities\": \"opportunities\", \"newzealand\": \"new zealand\", \"offcampus\": \"off campus\", \"lonliness\": \"loneliness\", \"percentilers\": \"percentiles\", \"caccount\": \"account\", \"imrovement\": \"improvement\", \"cashbacks\": \"cashback\", \"inhand\": \"in hand\", \"baahubali\": \"bahubali\", \"diffrent\": \"different\", \"strategywho\": \"strategy who\", \"meetme\": \"meet me\", \"wealthfront\": \"wealth front\", \"masterbation\": \"masturbation\", \"successfull\": \"successful\", \"lenght\": \"length\", \"increse\": \"increase\", \"mastrubation\": \"masturbation\", \"intresting\": \"interesting\", \"quesitons\": \"questions\", \"fullstack\": \"full stack\", \"harambe\": \"Harambee\", \"criterias\": \"criteria\", \"rajyasabha\": \"Rajya Sabha\", \"techmahindra\": \"tech Mahindra\", \"messeges\": \"messages\", \"intership\": \"internship\", \"benifits\": \"benefits\", \"dowload\": \"download\", \"dellhi\": \"Delhi\", \"traval\": \"travel\", \"prepration\": \"preparation\", \"engineeringwhat\": \"engineering what\", \"habbit\": \"habit\", \"diference\": \"difference\", \"permantley\": \"permanently\", \"doesnot\": \"does not\", \"thebest\": \"the best\", \"addmision\": \"admission\", \"gramatically\": \"grammatically\", \"dayswhich\": \"days which\", \"intrest\": \"interest\", \"seperatists\":\"separatists\", \"plagarism\": \"plagiarism\", \"demonitize\": \"demonetize\", \"explaination\": \"explanation\", \"numericals\": \"numerical\", \"defination\": \"definition\", \"inmortal\": \"immortal\", \"elasticsearch\": \"elastic search\"}\n",
    "\n",
    "contraction_mapping = {'What”s':'what is', 'What\"s':'what is',\"its\":\"it is\",\"What's\":\"what is\", \"'ll\": \"will\", \"n't\": \"not\", \"'re\":\"are\", \"ain't\": \"is not\", \"aren't\": \"are not\",\"can't\": \"cannot\", \"'cause\": \"because\", \"could've\": \"could have\", \"couldn't\": \"could not\", \"didn't\": \"did not\",  \"doesn't\": \"does not\", \"don't\": \"do not\", \"hadn't\": \"had not\", \"hasn't\": \"has not\", \"haven't\": \"have not\", \"he'd\": \"he would\",\"he'll\": \"he will\", \"he's\": \"he is\", \"how'd\": \"how did\", \"how'd'y\": \"how do you\", \"how'll\": \"how will\", \"how's\": \"how is\",  \"I'd\": \"I would\", \"I'd've\": \"I would have\", \"I'll\": \"I will\", \"I'll've\": \"I will have\",\"I'm\": \"I am\", \"I've\": \"I have\", \"i'd\": \"i would\", \"i'd've\": \"i would have\", \"i'll\": \"i will\",  \"i'll've\": \"i will have\",\"i'm\": \"i am\", \"i've\": \"i have\", \"isn't\": \"is not\", \"it'd\": \"it would\", \"it'd've\": \"it would have\", \"it'll\": \"it will\", \"it'll've\": \"it will have\",\"it's\": \"it is\", \"let's\": \"let us\", \"ma'am\": \"madam\", \"mayn't\": \"may not\", \"might've\": \"might have\",\"mightn't\": \"might not\",\"mightn't've\": \"might not have\", \"must've\": \"must have\", \"mustn't\": \"must not\", \"mustn't've\": \"must not have\", \"needn't\": \"need not\", \"needn't've\": \"need not have\",\"o'clock\": \"of the clock\", \"oughtn't\": \"ought not\", \"oughtn't've\": \"ought not have\", \"shan't\": \"shall not\", \"sha'n't\": \"shall not\", \"shan't've\": \"shall not have\", \"she'd\": \"she would\", \"she'd've\": \"she would have\", \"she'll\": \"she will\", \"she'll've\": \"she will have\", \"she's\": \"she is\", \"should've\": \"should have\", \"shouldn't\": \"should not\", \"shouldn't've\": \"should not have\", \"so've\": \"so have\",\"so's\": \"so as\", \"this's\": \"this is\",\"that'd\": \"that would\", \"that'd've\": \"that would have\", \"that's\": \"that is\", \"there'd\": \"there would\", \"there'd've\": \"there would have\", \"there's\": \"there is\", \"here's\": \"here is\",\"they'd\": \"they would\", \"they'd've\": \"they would have\", \"'they're\":\"they are\",\"they'll\": \"they will\", \"they'll've\": \"they will have\", \"they're\": \"they are\", \"they've\": \"they have\", \"to've\": \"to have\", \"wasn't\": \"was not\", \"we'd\": \"we would\", \"we'd've\": \"we would have\", \"we'll\": \"we will\", \"we'll've\": \"we will have\", \"we're\": \"we are\", \"we've\": \"we have\", \"weren't\": \"were not\", \"what'll\": \"what will\", \"what'll've\": \"what will have\", \"what're\": \"what are\",  \"what's\": \"what is\", \"what've\": \"what have\", \"when's\": \"when is\", \"when've\": \"when have\", \"where'd\": \"where did\", \"where's\": \"where is\", \"where've\": \"where have\", \"who'll\": \"who will\", \"who'll've\": \"who will have\", \"who's\": \"who is\", \"who've\": \"who have\", \"why's\": \"why is\", \"why've\": \"why have\", \"will've\": \"will have\", \"won't\": \"will not\", \"won't've\": \"will not have\", \"would've\": \"would have\", \"wouldn't\": \"would not\", \"wouldn't've\": \"would not have\", \"y'all\": \"you all\", \"y'all'd\": \"you all would\",\"y'all'd've\": \"you all would have\",\"y'all're\": \"you all are\",\"y'all've\": \"you all have\",\"you'd\": \"you would\", \"you'd've\": \"you would have\", \"you'll\": \"you will\", \"you'll've\": \"you will have\", \"you're\": \"you are\", \"you've\": \"you have\" }\n",
    "\n",
    "contractions = set(contraction_mapping)\n",
    "misspelled = set(misspelled_words)"
   ]
  },
  {
   "cell_type": "code",
   "execution_count": 4,
   "metadata": {},
   "outputs": [],
   "source": [
    "def pre_processing(sentence):\n",
    "    \n",
    "    out = sentence.replace('\\n', ' ').replace('\\t', ' ').replace('\\xa0',' ')\\\n",
    "    .replace(\"？\", \"?\").replace(\"…\", \" \").replace(\"é\", \"e\")\n",
    "    \n",
    "    for punct in \"./-'_“”\":\n",
    "        out = out.replace(punct, ' ')\n",
    "    for punct in '&':\n",
    "        out = out.replace(punct, f'{punct} ')\n",
    "    for punct in \"∞θ÷α•à−β∅³π‘°£€\\×™√²—–&©^®<→°€™›♥←×§Â█½à…★–●â►−¢²¬░¶↑±¿▾═¦║―¥▓—‹─▒：¼⊕▼▪†■’▀¨▄♫☆é¯♦¤▲è¸¾Ã⋅‘∞∙）↓、│（»，♪╩╚³・╦╣╔╗▬❤ïØ¹≤‡√シし\":\n",
    "        out = out.replace(punct, ' ')\n",
    "    out = out.translate(str.maketrans('', '', string.punctuation))\n",
    "    #out = out.translate(str.maketrans('', '', string.digits))\n",
    "    out = out.lower()\n",
    "    return out\n",
    "\n",
    "#Removing the left right and in between empty spaces.\n",
    "def left_right_spaces(sentence):\n",
    "    new_sentence = []\n",
    "    for word in sentence.split(' '):\n",
    "        if word!='':\n",
    "            new_sentence.append(word)\n",
    "    return \" \".join(new_sentence)\n",
    "            \n",
    "#These words are decided after exploring dataset\n",
    "stop_words = [\"the\",\"a\",\"is\",\"to\",\"be\",\"are\",\"what\"]\n",
    "def own_stop_words(sentence, stop_words = stop_words):\n",
    "    new_sentence = []\n",
    "    for word in sentence.split(' '):\n",
    "        if word not in stop_words:\n",
    "            new_sentence.append(word)\n",
    "    return \" \".join(new_sentence)\n",
    "\n",
    "#Contractions like \"aren't\" are replaced with \"are not\"\n",
    "def known_contractions(sentence):\n",
    "    sentence = sentence.replace(\"’\", \"'\").replace(\"`\", \"'\").replace(\"´\", \"'\")\n",
    "    new_sentence = []\n",
    "    for word in sentence.split(' '):\n",
    "        if word in contractions:\n",
    "            new_sentence.append(contraction_mapping[word])\n",
    "        else:\n",
    "            new_sentence.append(word)\n",
    "    return \" \".join(new_sentence)\n",
    "\n",
    "#Spelling corrections reduces the unnecessary vocabulary also improves the dataset\n",
    "def spelling_correction(sentence):\n",
    "    new_sentence = []\n",
    "    for word in sentence.split(' '):\n",
    "        if word in misspelled:\n",
    "            new_sentence.append(misspelled_words[word])\n",
    "        else:\n",
    "            new_sentence.append(word)\n",
    "    return \" \".join(new_sentence)\n",
    "\n",
    "#url's have been replaced with url token\n",
    "def check_urls(sentence):\n",
    "    flag=0\n",
    "    out = sentence\n",
    "    for word in sentence.split(' '):\n",
    "        if len(word)>3:\n",
    "            url = re.findall('((ftp|http|https):\\/\\/)?(www.)?(?!.*(ftp|http|https|www.))[a-zA-Z0-9_-]+(\\.[a-zA-Z]+)+((\\/)[\\w#]+)*(\\/\\w+\\?[a-zA-Z0-9_]+=\\w+(&[a-zA-Z0-9_]+=\\w+)*)?$', word)\n",
    "            if len(url)>0:\n",
    "                out = out.replace(word, ' url ')\n",
    "                flag=1\n",
    "    if flag==1:\n",
    "        return out\n",
    "    return sentence\n",
    "\n",
    "#Words like india's economy, america's economy are replaced with just india economy, america economy etc. \n",
    "def smart_words(sentence):\n",
    "    try:\n",
    "        new_sentence = []\n",
    "        for word in sentence.split(' '):\n",
    "            if word==\"'s\":\n",
    "                word=\"\"\n",
    "            new_sentence.append(re.sub('[\\w]+\\s*[\\’\\´\\'\\”\\’\\\"\\”]\\s*[s]',word[:-2], word))            \n",
    "        return \" \".join(new_sentence)\n",
    "    except:\n",
    "        return np.NaN\n",
    "\n",
    "#Some common country names are replaced with a common word to reduce vocabulary.\n",
    "america_names = [\"USA\",\"U.S\",\"U.S.A\",\"U.S.\",\"usa\",\"US\",\"U.S,\",\"U.S.A,\",\"U.S.\",\"usa,\",\"US,\",\"US?\",\"U.S?\",\"U.S.A?\",\"U.S.?\",\"usa?\",\"U.S.A?\"]\n",
    "uk = [\"U.K\",\"U.K?\",\"U.K,\",\"U.K.\"]\n",
    "america_names = set(america_names)\n",
    "uk = set(uk)\n",
    "def countries(sentence):\n",
    "    new_sentence = []\n",
    "    for word in sentence.split(' '):\n",
    "        if word in america_names:\n",
    "            new_sentence.append('america')\n",
    "        elif word in uk:\n",
    "            new_sentence.append('united kingdom')\n",
    "        else:\n",
    "            new_sentence.append(word)\n",
    "    return \" \".join(new_sentence)\n",
    "\n",
    "\n",
    "#Symbols are replaced with the textual information to retain important information.\n",
    "def replace_symbols(sentence):\n",
    "    sentence = sentence.replace(\"%\", \" percent \").replace(\"₹\", \" rupee \").replace(\"$\", \" dollar \")\\\n",
    "    .replace(\"€\", \" euro\").replace(\"?\",'').replace(\"INR\",\" rupee \").replace(\"Rs.\",\" rupee \").replace(\"Rs\",\" rupee \")\n",
    "    \n",
    "    return sentence\n",
    "\n",
    "#Numbers like 100k is replaced with 100 thousand, 21yrs is replaced with 21 years, 1990's with 1990 and so on.\n",
    "def preprocessing_numbers(row):\n",
    "    row = re.sub('(?<=[0-9])\\,(?=[0-9])', \"\", row) #removing ,(comma) between the numbers\n",
    "    new_sentence = []\n",
    "    for word in row.split(' '):\n",
    "        match = re.match(r\"(^[0-9]+)(\\'*\\’*k{1}$)\", word)\n",
    "        if match:\n",
    "            items = match.groups()\n",
    "            new_sentence.append(items[0])\n",
    "            new_sentence.append('thousand')\n",
    "        else:\n",
    "            new_sentence.append(word)\n",
    "            \n",
    "    sentence = \" \".join(new_sentence)\n",
    "    new_sentence = []\n",
    "    for word in sentence.split(' '):\n",
    "        match = re.match(r\"(^[0-9]+)(\\'*\\’*y{1}r?s?$)\", word)\n",
    "        if match:\n",
    "            items = match.groups()\n",
    "            new_sentence.append(items[0])\n",
    "            new_sentence.append('year')\n",
    "        else:\n",
    "            new_sentence.append(word)\n",
    "\n",
    "    sentence = \" \".join(new_sentence)\n",
    "    new_sentence = []\n",
    "    for word in sentence.split(' '):\n",
    "        match = re.match(r\"(^[0-9]+)(\\'*\\’*s{1}$)\", word)\n",
    "        if match:\n",
    "            items = match.groups()\n",
    "            new_sentence.append(items[0])\n",
    "        else:\n",
    "            new_sentence.append(word)\n",
    "\n",
    "    sentence = \" \".join(new_sentence)\n",
    "    new_sentence = []\n",
    "    for word in sentence.split(' '):\n",
    "        match = re.match(r\"([0-9]+)([a-zA-Z]+)\", word)\n",
    "        if match:\n",
    "            items = match.groups()\n",
    "            new_sentence.append(items[0])\n",
    "            new_sentence.append(items[1])\n",
    "        else:\n",
    "            new_sentence.append(word)\n",
    "    return \" \".join(new_sentence)\n",
    "\n",
    "#Numbers are replaced with textual information to retain the value of sentence.\n",
    "def num_to_text(sentence):\n",
    "    sentence = sentence.replace(\"%\", \" percent \").replace(\"₹\", \" rupee \").replace(\"$\", \" dollar \")\\\n",
    "    .replace(\"€\", \" euro\").replace(\"?\",'').replace(\"INR\",\" rupee \").replace(\"Rs.\",\" rupee \")\n",
    "    new_sentence = []\n",
    "    for word in sentence.split(' '):\n",
    "        try:\n",
    "            word = int(word)\n",
    "            if word<=1000 and word>0:\n",
    "                text = num2words(word)\n",
    "                new_sentence.append(text)\n",
    "            else:\n",
    "                new_sentence.append(str(word))\n",
    "        except:\n",
    "            new_sentence.append(str(word))\n",
    "    return \" \".join(new_sentence)"
   ]
  },
  {
   "cell_type": "markdown",
   "metadata": {},
   "source": [
    "**Applying the above steps using .apply() function.**"
   ]
  },
  {
   "cell_type": "code",
   "execution_count": 5,
   "metadata": {},
   "outputs": [],
   "source": [
    "#Processing training data\n",
    "train['question1'] = train['question1'].apply(countries)\n",
    "train['question2'] = train['question2'].apply(countries)\n",
    "\n",
    "train['question1'] = train['question1'].apply(known_contractions)\n",
    "train['question2'] = train['question2'].apply(known_contractions)\n",
    "\n",
    "train['question1'] = train['question1'].apply(smart_words)\n",
    "train['question2'] = train['question2'].apply(smart_words)\n",
    "train = train.dropna(how='any',axis=0) \n",
    "\n",
    "train['question1'] = train['question1'].apply(replace_symbols)\n",
    "train['question2'] = train['question2'].apply(replace_symbols)\n",
    "\n",
    "train['question1'] = train['question1'].apply(preprocessing_numbers)\n",
    "train['question2'] = train['question2'].apply(preprocessing_numbers)\n",
    "\n",
    "train['question1'] = train['question1'].apply(num_to_text)\n",
    "train['question2'] = train['question2'].apply(num_to_text)\n",
    "\n",
    "train['question1'] = train['question1'].apply(check_urls)\n",
    "train['question2'] = train['question2'].apply(check_urls)\n",
    "\n",
    "train['question1'] = train['question1'].apply(num_to_text)\n",
    "train['question2'] = train['question2'].apply(num_to_text)\n",
    "\n",
    "train['question1'] = train['question1'].apply(pre_processing)\n",
    "train['question2'] = train['question2'].apply(pre_processing)\n",
    "\n",
    "train['question1'] = train['question1'].apply(own_stop_words)\n",
    "train['question2'] = train['question2'].apply(own_stop_words)\n",
    "\n",
    "train['question1'] = train['question1'].apply(spelling_correction)\n",
    "train['question2'] = train['question2'].apply(spelling_correction)\n",
    "\n",
    "train['question1'] = train['question1'].apply(preprocessing_numbers)\n",
    "train['question2'] = train['question2'].apply(preprocessing_numbers)\n",
    "\n",
    "train['question1'] = train['question1'].apply(num_to_text)\n",
    "train['question2'] = train['question2'].apply(num_to_text)\n",
    "\n",
    "train['question1'] = train['question1'].apply(left_right_spaces)\n",
    "train['question2'] = train['question2'].apply(left_right_spaces)"
   ]
  },
  {
   "cell_type": "markdown",
   "metadata": {},
   "source": [
    "**Data Exploration**"
   ]
  },
  {
   "cell_type": "markdown",
   "metadata": {},
   "source": [
    "**Classifying the dataset into duplicate and non-duplicate to explore the data.**"
   ]
  },
  {
   "cell_type": "code",
   "execution_count": 6,
   "metadata": {},
   "outputs": [],
   "source": [
    "duplicate_dataset = train[train[\"is_duplicate\"] == 1]\n",
    "non_duplicate_dataset = train[train[\"is_duplicate\"] == 0]"
   ]
  },
  {
   "cell_type": "code",
   "execution_count": 7,
   "metadata": {},
   "outputs": [
    {
     "name": "stdout",
     "output_type": "stream",
     "text": [
      "Total vocab size: 83586\n",
      "[('how', 109416), ('i', 105487), ('in', 98031), ('do', 82364), ('of', 79921), ('and', 70121), ('can', 56164), ('for', 51903), ('you', 46433), ('why', 41940)]\n",
      "[('i', 117450), ('how', 111185), ('in', 99029), ('do', 86585), ('of', 79903), ('and', 69844), ('can', 57975), ('for', 52580), ('you', 46653), ('why', 42075)]\n"
     ]
    }
   ],
   "source": [
    "#Calculating the vocab size and creating a dictionary to check the frequency of those words.\n",
    "words_1 = []\n",
    "for doc in train['question1']:\n",
    "    for word in doc.split(' '):\n",
    "        if word!='':\n",
    "            words_1.append(word)\n",
    "\n",
    "words_2 = []\n",
    "for doc in train['question2']:\n",
    "    for word in doc.split(' '):\n",
    "        if word!='':\n",
    "            words_2.append(word)\n",
    "\n",
    "words_1_count = Counter(words_1)\n",
    "words_2_count = Counter(words_2)\n",
    "\n",
    "total_words = words_1_count + words_2_count\n",
    "vocab_size = len(total_words)\n",
    "\n",
    "print(\"Total vocab size:\", vocab_size)\n",
    "print(words_1_count.most_common(10))\n",
    "print(words_2_count.most_common(10))\n",
    "\n",
    "del words_1\n",
    "del words_2\n",
    "del words_1_count\n",
    "del words_2_count\n"
   ]
  },
  {
   "cell_type": "markdown",
   "metadata": {},
   "source": [
    "**n-grams are the continuous sequence of words. They can be single words if n is equal to 1 or continuous sequence of two words if n is equal to 2 and so on.**\n",
    "\n",
    "For instance, suppose the sentence is \"Hello, how are you\".\n",
    "\n",
    "If n = 1 then the list would be [Hello, how, are, you]\n",
    "\n",
    "If n = 2 then the list would be [Hello how, how are, are you]\n",
    "\n",
    "If n = 3 then the list would be [Hello how are, how are you]"
   ]
  },
  {
   "cell_type": "code",
   "execution_count": 8,
   "metadata": {},
   "outputs": [],
   "source": [
    "def n_grams(count, dataset, name):\n",
    "    d1 = dataset['question1']\n",
    "    d2 = dataset['question2']\n",
    "    frames = [d1,d2]\n",
    "    result = pd.concat(frames)\n",
    "    n_grams_1 = []\n",
    "    for row in result:\n",
    "        total_words = row.split(' ')\n",
    "        for i in range(0,len(total_words)-(count-1)):\n",
    "            n_grams_1.append(' '.join(total_words[i:count+i]))\n",
    "    n_grams_1 = Counter(n_grams_1)\n",
    "    df = pd.DataFrame(list(n_grams_1.items()), columns=['words', 'count'])\n",
    "    df.sort_values(by=['count'], ascending=False, inplace=True)\n",
    "    \n",
    "    fig = sns.barplot(x = df[\"words\"][:20], y= df[\"count\"][:20])\n",
    "    plt.xticks(rotation=90)\n",
    "    plt.title(name)\n",
    "    return fig"
   ]
  },
  {
   "cell_type": "markdown",
   "metadata": {},
   "source": [
    "**Below is the plot of occurences of n-grams in the duplicate and non-duplicate sentences.**"
   ]
  },
  {
   "cell_type": "code",
   "execution_count": 9,
   "metadata": {},
   "outputs": [
    {
     "name": "stdout",
     "output_type": "stream",
     "text": [
      "AxesSubplot(0.125,0.536818;0.352273x0.343182)\n",
      "AxesSubplot(0.547727,0.536818;0.352273x0.343182)\n",
      "AxesSubplot(0.125,0.536818;0.352273x0.343182)\n",
      "AxesSubplot(0.547727,0.536818;0.352273x0.343182)\n",
      "AxesSubplot(0.125,0.536818;0.352273x0.343182)\n",
      "AxesSubplot(0.547727,0.536818;0.352273x0.343182)\n"
     ]
    },
    {
     "data": {
      "image/png": "[encoded data removed]",
      "text/plain": [
       "<Figure size 864x792 with 2 Axes>"
      ]
     },
     "metadata": {
      "needs_background": "light"
     },
     "output_type": "display_data"
    },
    {
     "data": {
      "image/png": "[encoded data removed]",
      "text/plain": [
       "<Figure size 864x792 with 2 Axes>"
      ]
     },
     "metadata": {
      "needs_background": "light"
     },
     "output_type": "display_data"
    },
    {
     "data": {
      "image/png": "[encoded data removed]",
      "text/plain": [
       "<Figure size 864x792 with 2 Axes>"
      ]
     },
     "metadata": {
      "needs_background": "light"
     },
     "output_type": "display_data"
    }
   ],
   "source": [
    "for k in range(1,4):\n",
    "    fig = plt.figure(figsize=(12, 11))\n",
    "    for i in range(1, 2):\n",
    "        plt.subplot(2, 2, i)\n",
    "        print(n_grams(k, duplicate_dataset, \"duplicate\"))\n",
    "        plt.subplot(2, 2, i+1)\n",
    "        print(n_grams(k, non_duplicate_dataset, \"non_duplicate\"))"
   ]
  },
  {
   "cell_type": "markdown",
   "metadata": {},
   "source": [
    "**Checking the word length of each sentence in both the columns, question1 and question2. This will help us decide the sequence length during model training.**"
   ]
  },
  {
   "cell_type": "code",
   "execution_count": 10,
   "metadata": {},
   "outputs": [
    {
     "data": {
      "text/plain": [
       "<matplotlib.axes._subplots.AxesSubplot at 0x7fa1c22a70f0>"
      ]
     },
     "execution_count": 10,
     "metadata": {},
     "output_type": "execute_result"
    },
    {
     "data": {
      "image/png": "[encoded data removed]",
      "text/plain": [
       "<Figure size 432x288 with 1 Axes>"
      ]
     },
     "metadata": {
      "needs_background": "light"
     },
     "output_type": "display_data"
    }
   ],
   "source": [
    "#Checking the word length of all rows.\n",
    "values = []\n",
    "for row in train['question1']:\n",
    "    values.append(len(row.split(' ')))\n",
    "values = np.array(values)\n",
    "\n",
    "sns.distplot(values, kde = False)"
   ]
  },
  {
   "cell_type": "code",
   "execution_count": 11,
   "metadata": {},
   "outputs": [
    {
     "data": {
      "text/plain": [
       "<matplotlib.axes._subplots.AxesSubplot at 0x7fa1c2282748>"
      ]
     },
     "execution_count": 11,
     "metadata": {},
     "output_type": "execute_result"
    },
    {
     "data": {
      "image/png": "[encoded data removed]",
      "text/plain": [
       "<Figure size 432x288 with 1 Axes>"
      ]
     },
     "metadata": {
      "needs_background": "light"
     },
     "output_type": "display_data"
    }
   ],
   "source": [
    "#Checking the word length of all rows.\n",
    "values = []\n",
    "for row in train['question2']:\n",
    "    values.append(len(row.split(' ')))\n",
    "values = np.array(values)\n",
    "\n",
    "sns.distplot(values, kde = False)\n",
    "\n",
    "#We can see that most of the questions have word length in between 0 and 150."
   ]
  },
  {
   "cell_type": "markdown",
   "metadata": {},
   "source": [
    "**Now, after all the pre-processing is done, words are replaced with word embeddings. You can also train your own word embeddings. Here, I am using GloVe embeddings.**\n",
    "\n",
    "These are 200 dimensional vectors, that means every word is represented using 200 length vector. This length is tunable and we should try multiple length vectors and choose the best one."
   ]
  },
  {
   "cell_type": "code",
   "execution_count": 12,
   "metadata": {},
   "outputs": [
    {
     "name": "stdout",
     "output_type": "stream",
     "text": [
      "--2019-07-17 05:00:09--  http://nlp.stanford.edu/data/glove.6B.zip\r\n",
      "Resolving nlp.stanford.edu (nlp.stanford.edu)... 171.64.67.140\r\n",
      "Connecting to nlp.stanford.edu (nlp.stanford.edu)|171.64.67.140|:80... connected.\r\n",
      "HTTP request sent, awaiting response... 302 Found\r\n",
      "Location: https://nlp.stanford.edu/data/glove.6B.zip [following]\r\n",
      "--2019-07-17 05:00:10--  https://nlp.stanford.edu/data/glove.6B.zip\r\n",
      "Connecting to nlp.stanford.edu (nlp.stanford.edu)|171.64.67.140|:443... connected.\r\n",
      "HTTP request sent, awaiting response... 301 Moved Permanently\r\n",
      "Location: http://downloads.cs.stanford.edu/nlp/data/glove.6B.zip [following]\r\n",
      "--2019-07-17 05:00:10--  http://downloads.cs.stanford.edu/nlp/data/glove.6B.zip\r\n",
      "Resolving downloads.cs.stanford.edu (downloads.cs.stanford.edu)... 171.64.64.22\r\n",
      "Connecting to downloads.cs.stanford.edu (downloads.cs.stanford.edu)|171.64.64.22|:80... connected.\r\n",
      "HTTP request sent, awaiting response... 200 OK\r\n",
      "Length: 862182613 (822M) [application/zip]\r\n",
      "Saving to: ‘glove.6B.zip’\r\n",
      "\r\n",
      "glove.6B.zip        100%[===================>] 822.24M  20.0MB/s    in 43s     \r\n",
      "\r\n",
      "2019-07-17 05:00:53 (19.3 MB/s) - ‘glove.6B.zip’ saved [862182613/862182613]\r\n",
      "\r\n",
      "Archive:  glove.6B.zip\r\n",
      "  inflating: glove.6B.50d.txt        \r\n",
      "  inflating: glove.6B.100d.txt       \r\n",
      "  inflating: glove.6B.200d.txt       \r\n",
      "  inflating: glove.6B.300d.txt       \r\n",
      "rm: cannot remove 'glove.6B.zip.100d.txt': No such file or directory\r\n",
      "rm: cannot remove 'glove.6B.zip.300d.txt': No such file or directory\r\n",
      "rm: cannot remove 'glove.6B.zip.50d.txt': No such file or directory\r\n",
      "Indexing word vectors.\n",
      "Found 59681 word vectors.\n",
      "rm: cannot remove 'glove.6B.zip.200d.txt': No such file or directory\r\n"
     ]
    }
   ],
   "source": [
    "!wget http://nlp.stanford.edu/data/glove.6B.zip\n",
    "\n",
    "!unzip glove*.zip\n",
    "\n",
    "!rm glove.6B.zip\n",
    "!rm glove.6B.zip.100d.txt\n",
    "!rm glove.6B.zip.300d.txt\n",
    "!rm glove.6B.zip.50d.txt\n",
    "\n",
    "total_words = set(total_words)\n",
    "print('Indexing word vectors.')\n",
    "\n",
    "embeddings_index = {}\n",
    "f = open('glove.6B.200d.txt', encoding='utf-8')\n",
    "\n",
    "for line in f:\n",
    "    values = line.split()\n",
    "    word = values[0]\n",
    "    if word in total_words:\n",
    "        coefs = np.asarray(values[-200:], dtype='float32')\n",
    "        embeddings_index[word] = coefs\n",
    "    if len(embeddings_index)==len(total_words):\n",
    "        print(\"done\")\n",
    "f.close()\n",
    "print('Found %s word vectors.' % len(embeddings_index))\n",
    "\n",
    "!rm glove.6B.zip.200d.txt"
   ]
  },
  {
   "cell_type": "code",
   "execution_count": 13,
   "metadata": {},
   "outputs": [
    {
     "name": "stdout",
     "output_type": "stream",
     "text": [
      "Total number of words (vocabulary size):  83586\n",
      "Embeddings found for the words:  59681\n",
      "Percentage of words having embeddings:  71.40071303806857\n",
      "Percentage of words not having embeddings:  28.599286961931426\n"
     ]
    }
   ],
   "source": [
    "print(\"Total number of words (vocabulary size): \", len(total_words))\n",
    "print(\"Embeddings found for the words: \", len(embeddings_index))\n",
    "print(\"Percentage of words having embeddings: \", (len(embeddings_index)/len(total_words))*100)\n",
    "print(\"Percentage of words not having embeddings: \", 100 - (len(embeddings_index)/len(total_words))*100)\n",
    "del total_words"
   ]
  },
  {
   "cell_type": "code",
   "execution_count": 14,
   "metadata": {},
   "outputs": [],
   "source": [
    "train = train.sample(frac=1) #Shuffles the entire dataset. argument frac is set in range [0,1]. 1 indicates returning all the rows after shuffling.\n",
    "target = train['is_duplicate']\n",
    "train.drop(['is_duplicate','qid1','qid2','id'], axis = 1, inplace = True)"
   ]
  },
  {
   "cell_type": "markdown",
   "metadata": {},
   "source": [
    "**Splitting the dataset into trainng and validation to test our model's predictions on unseen data.**"
   ]
  },
  {
   "cell_type": "code",
   "execution_count": 15,
   "metadata": {},
   "outputs": [],
   "source": [
    "X_train, X_val, y_train, y_val = train_test_split(train, target, stratify = target, test_size=0.2)\n",
    "del train\n",
    "del duplicate_dataset \n",
    "del non_duplicate_dataset"
   ]
  },
  {
   "cell_type": "code",
   "execution_count": 16,
   "metadata": {},
   "outputs": [],
   "source": [
    "#Converting the words in the sentence to respective Glove word emebddings.\n",
    "def embeddings(sentence):\n",
    "    new_sentence = []\n",
    "    for word in sentence.split(' '):\n",
    "        if word in embeddings_index:\n",
    "            new_sentence.append(embeddings_index[word])\n",
    "        else:\n",
    "            new_sentence.append(np.zeros(EMBEDDING_DIM))\n",
    "    return new_sentence"
   ]
  },
  {
   "cell_type": "code",
   "execution_count": 17,
   "metadata": {},
   "outputs": [
    {
     "name": "stdout",
     "output_type": "stream",
     "text": [
      "Model: \"model\"\n",
      "__________________________________________________________________________________________________\n",
      "Layer (type)                    Output Shape         Param #     Connected to                     \n",
      "==================================================================================================\n",
      "input_1 (InputLayer)            [(None, 35, 200)]    0                                            \n",
      "__________________________________________________________________________________________________\n",
      "input_2 (InputLayer)            [(None, 35, 200)]    0                                            \n",
      "__________________________________________________________________________________________________\n",
      "cu_dnnlstm (CuDNNLSTM)          (None, 35, 256)      468992      input_1[0][0]                    \n",
      "__________________________________________________________________________________________________\n",
      "cu_dnnlstm_2 (CuDNNLSTM)        (None, 35, 256)      468992      input_2[0][0]                    \n",
      "__________________________________________________________________________________________________\n",
      "dropout (Dropout)               (None, 35, 256)      0           cu_dnnlstm[0][0]                 \n",
      "__________________________________________________________________________________________________\n",
      "dropout_1 (Dropout)             (None, 35, 256)      0           cu_dnnlstm_2[0][0]               \n",
      "__________________________________________________________________________________________________\n",
      "cu_dnnlstm_1 (CuDNNLSTM)        (None, 128)          197632      dropout[0][0]                    \n",
      "__________________________________________________________________________________________________\n",
      "cu_dnnlstm_3 (CuDNNLSTM)        (None, 128)          197632      dropout_1[0][0]                  \n",
      "__________________________________________________________________________________________________\n",
      "concatenate (Concatenate)       (None, 256)          0           cu_dnnlstm_1[0][0]               \n",
      "                                                                 cu_dnnlstm_3[0][0]               \n",
      "__________________________________________________________________________________________________\n",
      "batch_normalization (BatchNorma (None, 256)          1024        concatenate[0][0]                \n",
      "__________________________________________________________________________________________________\n",
      "dense (Dense)                   (None, 200)          51400       batch_normalization[0][0]        \n",
      "__________________________________________________________________________________________________\n",
      "dropout_2 (Dropout)             (None, 200)          0           dense[0][0]                      \n",
      "__________________________________________________________________________________________________\n",
      "batch_normalization_1 (BatchNor (None, 200)          800         dropout_2[0][0]                  \n",
      "__________________________________________________________________________________________________\n",
      "dense_1 (Dense)                 (None, 200)          40200       batch_normalization_1[0][0]      \n",
      "__________________________________________________________________________________________________\n",
      "dropout_3 (Dropout)             (None, 200)          0           dense_1[0][0]                    \n",
      "__________________________________________________________________________________________________\n",
      "batch_normalization_2 (BatchNor (None, 200)          800         dropout_3[0][0]                  \n",
      "__________________________________________________________________________________________________\n",
      "dense_2 (Dense)                 (None, 200)          40200       batch_normalization_2[0][0]      \n",
      "__________________________________________________________________________________________________\n",
      "dropout_4 (Dropout)             (None, 200)          0           dense_2[0][0]                    \n",
      "__________________________________________________________________________________________________\n",
      "batch_normalization_3 (BatchNor (None, 200)          800         dropout_4[0][0]                  \n",
      "__________________________________________________________________________________________________\n",
      "dense_3 (Dense)                 (None, 200)          40200       batch_normalization_3[0][0]      \n",
      "__________________________________________________________________________________________________\n",
      "dropout_5 (Dropout)             (None, 200)          0           dense_3[0][0]                    \n",
      "__________________________________________________________________________________________________\n",
      "dense_4 (Dense)                 (None, 1)            201         dropout_5[0][0]                  \n",
      "==================================================================================================\n",
      "Total params: 1,508,873\n",
      "Trainable params: 1,507,161\n",
      "Non-trainable params: 1,712\n",
      "__________________________________________________________________________________________________\n"
     ]
    }
   ],
   "source": [
    "#Designing the architecture\n",
    "sequence_1_input = Input(shape = (SEQUENCE_LENGTH , EMBEDDING_DIM))\n",
    "x1 = CuDNNLSTM(256, return_sequences = True)(sequence_1_input)\n",
    "x1 = Dropout(0.3)(x1)\n",
    "x2 = CuDNNLSTM(128)(x1)\n",
    "\n",
    "sequence_2_input = Input(shape = (SEQUENCE_LENGTH , EMBEDDING_DIM))\n",
    "y1 = CuDNNLSTM(256, return_sequences = True)(sequence_2_input)\n",
    "y1 = Dropout(0.3)(y1)\n",
    "y2 = CuDNNLSTM(128)(y1)\n",
    "\n",
    "merged = concatenate([x2, y2])\n",
    "\n",
    "merged = BatchNormalization()(merged)\n",
    "merged = Dense(200, activation='relu')(merged)\n",
    "merged = Dropout(0.3)(merged)\n",
    "\n",
    "merged = BatchNormalization()(merged)\n",
    "merged = Dense(200, activation='relu')(merged)\n",
    "merged = Dropout(0.3)(merged)\n",
    "\n",
    "merged = BatchNormalization()(merged)\n",
    "merged = Dense(200, activation='relu')(merged)\n",
    "merged = Dropout(0.3)(merged)\n",
    "\n",
    "merged = BatchNormalization()(merged)\n",
    "merged = Dense(200, activation='relu')(merged)\n",
    "merged = Dropout(0.3)(merged)\n",
    "\n",
    "preds = Dense(1, activation='sigmoid')(merged)\n",
    "\n",
    "model = Model(inputs=[sequence_1_input, sequence_2_input], outputs=preds)\n",
    "\n",
    "model.compile(loss='binary_crossentropy', optimizer = 'adam')\n",
    "model.summary()"
   ]
  },
  {
   "cell_type": "markdown",
   "metadata": {},
   "source": [
    "Here, I am training the dataset in batches since the RAM cannot handle the entire dataset having 300 dimensional word vectors all at once. So I am training 30,000 samples in iteration. A single epoch will undergo training of all the samples in a dataset (one after another batch). 1 epoch will have length(dataset)/30000 number of iterations.  "
   ]
  },
  {
   "cell_type": "code",
   "execution_count": 18,
   "metadata": {},
   "outputs": [
    {
     "name": "stdout",
     "output_type": "stream",
     "text": [
      "Epoch no:  0\n",
      "Train on 30000 samples, validate on 80843 samples\n",
      "29696/30000 [============================>.] - ETA: 0s - loss: 0.6836\n",
      "Epoch 00001: val_loss improved from inf to 0.67912, saving model to saved_model.hdf5\n",
      "30000/30000 [==============================] - 15s 496us/sample - loss: 0.6834 - val_loss: 0.6791\n",
      "Train on 30000 samples, validate on 80843 samples\n",
      "29696/30000 [============================>.] - ETA: 0s - loss: 0.6236\n",
      "Epoch 00001: val_loss improved from 0.67912 to 0.64840, saving model to saved_model.hdf5\n",
      "30000/30000 [==============================] - 9s 314us/sample - loss: 0.6236 - val_loss: 0.6484\n",
      "Train on 30000 samples, validate on 80843 samples\n",
      "29696/30000 [============================>.] - ETA: 0s - loss: 0.6014\n",
      "Epoch 00001: val_loss improved from 0.64840 to 0.63840, saving model to saved_model.hdf5\n",
      "30000/30000 [==============================] - 10s 323us/sample - loss: 0.6012 - val_loss: 0.6384\n",
      "Train on 30000 samples, validate on 80843 samples\n",
      "29696/30000 [============================>.] - ETA: 0s - loss: 0.5898\n",
      "Epoch 00001: val_loss improved from 0.63840 to 0.62436, saving model to saved_model.hdf5\n",
      "30000/30000 [==============================] - 9s 314us/sample - loss: 0.5898 - val_loss: 0.6244\n",
      "Train on 30000 samples, validate on 80843 samples\n",
      "29696/30000 [============================>.] - ETA: 0s - loss: 0.5792\n",
      "Epoch 00001: val_loss did not improve from 0.62436\n",
      "30000/30000 [==============================] - 9s 313us/sample - loss: 0.5791 - val_loss: 0.6268\n",
      "Train on 30000 samples, validate on 80843 samples\n",
      "29696/30000 [============================>.] - ETA: 0s - loss: 0.5626\n",
      "Epoch 00001: val_loss improved from 0.62436 to 0.61225, saving model to saved_model.hdf5\n",
      "30000/30000 [==============================] - 9s 314us/sample - loss: 0.5629 - val_loss: 0.6122\n",
      "Train on 30000 samples, validate on 80843 samples\n",
      "29696/30000 [============================>.] - ETA: 0s - loss: 0.5604\n",
      "Epoch 00001: val_loss did not improve from 0.61225\n",
      "30000/30000 [==============================] - 9s 316us/sample - loss: 0.5603 - val_loss: 0.6132\n",
      "Train on 30000 samples, validate on 80843 samples\n",
      "29696/30000 [============================>.] - ETA: 0s - loss: 0.5510\n",
      "Epoch 00001: val_loss improved from 0.61225 to 0.58039, saving model to saved_model.hdf5\n",
      "30000/30000 [==============================] - 9s 316us/sample - loss: 0.5511 - val_loss: 0.5804\n",
      "Train on 30000 samples, validate on 80843 samples\n",
      "29696/30000 [============================>.] - ETA: 0s - loss: 0.5481\n",
      "Epoch 00001: val_loss improved from 0.58039 to 0.57354, saving model to saved_model.hdf5\n",
      "30000/30000 [==============================] - 9s 314us/sample - loss: 0.5474 - val_loss: 0.5735\n",
      "Train on 30000 samples, validate on 80843 samples\n",
      "29696/30000 [============================>.] - ETA: 0s - loss: 0.5396\n",
      "Epoch 00001: val_loss did not improve from 0.57354\n",
      "30000/30000 [==============================] - 9s 313us/sample - loss: 0.5394 - val_loss: 0.5757\n"
     ]
    }
   ],
   "source": [
    "final_epochs = 1\n",
    "count = 30000\n",
    "\n",
    "checkpoint = ModelCheckpoint('saved_model.hdf5', monitor='val_loss', verbose=1, save_weights_only=True, save_best_only=True, mode='min')\n",
    "callbacks_list = [checkpoint]\n",
    "\n",
    "for k in range(0, final_epochs):\n",
    "    print(\"Epoch no: \", k)\n",
    "    for i in range(len(X_train)//count):\n",
    "        data1 = X_train['question1'][i*count:(i+1)*count]\n",
    "        data2 = X_train['question2'][i*count:(i+1)*count]\n",
    "        data1 = data1.apply(embeddings)\n",
    "        data2 = data2.apply(embeddings)\n",
    "\n",
    "        data1 = pad_sequences(data1, maxlen=SEQUENCE_LENGTH, padding = 'pre', dtype=\"float32\")\n",
    "        data2 = pad_sequences(data2, maxlen=SEQUENCE_LENGTH, padding = 'pre', dtype=\"float32\")\n",
    "        \n",
    "        val1 = X_val['question1']\n",
    "        val2 = X_val['question2']\n",
    "        val1 = val1.apply(embeddings)\n",
    "        val2 = val2.apply(embeddings)\n",
    "\n",
    "        val1 = pad_sequences(val1, maxlen=SEQUENCE_LENGTH, padding = 'pre', dtype=\"float32\")\n",
    "        val2 = pad_sequences(val2, maxlen=SEQUENCE_LENGTH, padding = 'pre', dtype=\"float32\")\n",
    "        \n",
    "\n",
    "        labels_train = np.array(y_train[i*count:(i+1)*count])\n",
    "        labels_val = np.array(y_val)\n",
    "\n",
    "        model.fit([data1, data2], labels_train,\n",
    "                  validation_data=([val1, val2], labels_val), epochs = 1,\n",
    "                  batch_size = 1024, callbacks = callbacks_list)\n"
   ]
  },
  {
   "cell_type": "code",
   "execution_count": 19,
   "metadata": {},
   "outputs": [
    {
     "data": {
      "text/plain": [
       "34"
      ]
     },
     "execution_count": 19,
     "metadata": {},
     "output_type": "execute_result"
    }
   ],
   "source": [
    "del data1, data2, val1,val2\n",
    "del labels_train, labels_val\n",
    "del model\n",
    "import gc\n",
    "gc.collect()"
   ]
  },
  {
   "cell_type": "code",
   "execution_count": null,
   "metadata": {},
   "outputs": [],
   "source": []
  },
  {
   "cell_type": "code",
   "execution_count": null,
   "metadata": {},
   "outputs": [],
   "source": []
  },
  {
   "cell_type": "code",
   "execution_count": null,
   "metadata": {},
   "outputs": [],
   "source": []
  },
  {
   "cell_type": "code",
   "execution_count": null,
   "metadata": {},
   "outputs": [],
   "source": []
  },
  {
   "cell_type": "code",
   "execution_count": null,
   "metadata": {},
   "outputs": [],
   "source": []
  },
  {
   "cell_type": "code",
   "execution_count": null,
   "metadata": {},
   "outputs": [],
   "source": []
  },
  {
   "cell_type": "code",
   "execution_count": null,
   "metadata": {},
   "outputs": [],
   "source": []
  },
  {
   "cell_type": "code",
   "execution_count": null,
   "metadata": {},
   "outputs": [],
   "source": []
  }
 ],
 "metadata": {
  "kernelspec": {
   "display_name": "Python 3",
   "language": "python",
   "name": "python3"
  },
  "language_info": {
   "codemirror_mode": {
    "name": "ipython",
    "version": 3
   },
   "file_extension": ".py",
   "mimetype": "text/x-python",
   "name": "python",
   "nbconvert_exporter": "python",
   "pygments_lexer": "ipython3",
   "version": "3.6.6"
  }
 },
 "nbformat": 4,
 "nbformat_minor": 1
}
